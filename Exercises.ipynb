{
 "cells": [
  {
   "cell_type": "markdown",
   "metadata": {},
   "source": [
    "#### Exercise 1 - Class Inheritance"
   ]
  },
  {
   "cell_type": "markdown",
   "metadata": {},
   "source": [
    "Create an Employee class that sets an employee's first name, last name, job title, salary, and email. The Employee class should have a class attribute for the raise amount set to 5% (1.05). Create a method that will apply the raise to an employee's salary."
   ]
  },
  {
   "cell_type": "code",
   "execution_count": null,
   "metadata": {},
   "outputs": [],
   "source": [
    "class Employee():\n",
    "    raise_amount = 1.05\n",
    "    \n",
    "    def __init__(self, first, last, position, salary):\n",
    "        self.first = first\n",
    "        self.last = last\n",
    "        self.position = position\n",
    "        self.salary = salary\n",
    "        self.email = first + \".\" + last + \"@xyz.org\"\n",
    "        \n",
    "    def full_name(self):\n",
    "        return f'{self.first} {self.last}'\n",
    "\n",
    "    def position(self):\n",
    "        return f'{self.last} {self.position}'\n",
    "\n",
    "    def salary(self):\n",
    "        return f'{self.salary}'\n",
    "    \n",
    "    def apply_raise(self):\n",
    "        self.salary = int(self.salary * self.raise_amount)\n",
    "       \n",
    "    emp = Employee('James', 'Moore', 'Manager', 70000)"
   ]
  },
  {
   "cell_type": "markdown",
   "metadata": {},
   "source": [
    "Create two more classes that inherit from the Employee class. One for Sales and one for Development. Both of these classes will have the same attributes as the Employee.<br>\n",
    "- For the Sales employees, add a phone number attribute on instantiation using the super method. \n",
    "- Create a method on the Sales class that will Send a Follow Up Email. It should take in a customer name and \"send\" aka print a formatted email \"Dear *customer*, Thank you for your interest in our product. Please let me know if you have any questions. My email is *email* or my phone number is *phone number*. Thanks, *full name*\"\n",
    "- Create a method on the Development class called code that will print out \"*full name* is writing code\"."
   ]
  },
  {
   "cell_type": "code",
   "execution_count": 1,
   "metadata": {},
   "outputs": [],
   "source": [
    "class Employee():\n",
    "    raise_amount = 1.05\n",
    "    \n",
    "    def __init__(self, first, last, position, salary):\n",
    "        self.first = first\n",
    "        self.last = last\n",
    "        self.position = position\n",
    "        self.salary = salary\n",
    "        self.email = first + \".\" + last + \"@xyz.org\"\n",
    "        \n",
    "    def full_name(self):\n",
    "        return f'{self.first} {self.last}'\n",
    "\n",
    "    def position(self):\n",
    "        return f'{self.last} {self.position}'\n",
    "\n",
    "    def salary(self):\n",
    "        return f'{self.salary}'\n",
    "    \n",
    "    def apply_raise(self):\n",
    "        self.salary = int(self.salary * self.raise_amount)\n",
    "        \n",
    "class Sales(Employee):\n",
    "    def __init__(self, phone):\n",
    "        super().__init__(salary, first, last, email)\n",
    "        self.customer = customer_name\n",
    "        self.phone = phone\n",
    "        \n",
    "    def follow_up(self):\n",
    "        print(f\"\"\"Dear {self.customer}, \n",
    "    Thank you for your interest in our product. Please let me know if you have any questions. \n",
    "    My email is {self.email} or my phone number is {self.phone}. \n",
    "    Thanks, {self.first} {self.last}\n",
    "    \"\"\")\n",
    "    \n",
    "class Development(Employee):\n",
    "    def __init__(self):\n",
    "        super().__init__(salary, first, last, email)\n",
    "        self.customer = customer_name\n",
    "        self.phone = phone\n",
    "        \n",
    "    def code(self):\n",
    "        print(f\"{self.first} {self.last} is writing code\")"
   ]
  },
  {
   "cell_type": "markdown",
   "metadata": {},
   "source": [
    "- Create an instance of a Sales Employee with a salary of $50,000.\n",
    "- Send follow up emails to \"Mike O'Neil\" and \"Hannah Stern\"\n",
    "- Give the employee a raise and print the salary"
   ]
  },
  {
   "cell_type": "code",
   "execution_count": null,
   "metadata": {},
   "outputs": [],
   "source": [
    "class Sales(Employee):\n",
    "    raise_amount = 1.05\n",
    "    \n",
    "    def __init__(self, first, last, position, salary):\n",
    "        self.first = first\n",
    "        self.last = last\n",
    "        self.position = position\n",
    "        self.salary = salary\n",
    "        self.email = first + \".\" + last + \"@xyz.org\"\n",
    "        \n",
    "    def full_name(self):\n",
    "        return f'{self.first} {self.last}'\n",
    "    \n",
    "    def apply_raise(self):\n",
    "        self.salary = int(self.salary * self.raise_amount)\n",
    "\n",
    "    def follow_up(self):\n",
    "        print(f\"Dear {self.first} {self.last}, your salary is now {self.salary} + {self.raise_amount}\")\n",
    "        \n",
    "emp1 = Employee(\"Mike\", \"O'Neil\", 50000)\n",
    "emp2 = Employee(\"Hannah\", \"Stern\", 50000)\n"
   ]
  },
  {
   "cell_type": "markdown",
   "metadata": {},
   "source": [
    "- Create an instance of a Development Employee with a salary of $100,000\n",
    "- Write some code with this employee\n",
    "- Give the employee a raise and print the salary"
   ]
  },
  {
   "cell_type": "code",
   "execution_count": 3,
   "metadata": {},
   "outputs": [],
   "source": [
    "class Development(Employee):\n",
    "    raise_amount = 1.05\n",
    "    \n",
    "    def __init__(self, first, last, position, salary):\n",
    "        self.first = first\n",
    "        self.last = last\n",
    "        self.position = position\n",
    "        self.salary = salary\n",
    "        self.email = first + \".\" + last + \"@xyz.org\"\n",
    "        \n",
    "    def full_name(self):\n",
    "        return f'{self.first} {self.last}'\n",
    "    \n",
    "    def apply_raise(self):\n",
    "        self.salary = int(self.salary * self.raise_amount)\n",
    "\n",
    "    def follow_up(self):\n",
    "        print(f\"Dear {self.first} {self.last}, your salary is now {self.salary} + {self.raise_amount}\")\n",
    "        \n",
    "\n",
    "emp1 = Employee(\"Mike\", \"O'Neil\", 100000)"
   ]
  },
  {
   "cell_type": "markdown",
   "metadata": {},
   "source": [
    "#### Exercise 2 - Importing Modules"
   ]
  },
  {
   "cell_type": "markdown",
   "metadata": {},
   "source": [
    "In VS Code, create a module titled `geometry` and add two functions in there. One that will calculate the area of a circle given a radius. The second will find the hypotenuse of a right angle given the two sides. Import the module or the functions from the module and use it to find the answers to the below questions"
   ]
  },
  {
   "cell_type": "markdown",
   "metadata": {},
   "source": [
    "What is the area of a circle with a radius of 7cm?"
   ]
  },
  {
   "cell_type": "code",
   "execution_count": 4,
   "metadata": {},
   "outputs": [
    {
     "ename": "ModuleNotFoundError",
     "evalue": "No module named 'folder_module'",
     "output_type": "error",
     "traceback": [
      "\u001b[0;31m---------------------------------------------------------------------------\u001b[0m",
      "\u001b[0;31mModuleNotFoundError\u001b[0m                       Traceback (most recent call last)",
      "Cell \u001b[0;32mIn [4], line 1\u001b[0m\n\u001b[0;32m----> 1\u001b[0m \u001b[38;5;28;01mfrom\u001b[39;00m \u001b[38;5;21;01mfolder_module\u001b[39;00m \u001b[38;5;28;01mimport\u001b[39;00m Geometry\n",
      "\u001b[0;31mModuleNotFoundError\u001b[0m: No module named 'folder_module'"
     ]
    }
   ],
   "source": [
    "from folder_module import Geometry\n"
   ]
  },
  {
   "cell_type": "markdown",
   "metadata": {},
   "source": [
    "What is the hypotenuse of a right angle with sides of 3in and 4in?"
   ]
  },
  {
   "cell_type": "code",
   "execution_count": null,
   "metadata": {},
   "outputs": [],
   "source": []
  }
 ],
 "metadata": {
  "kernelspec": {
   "display_name": "Python 3.10.5 64-bit",
   "language": "python",
   "name": "python3"
  },
  "language_info": {
   "codemirror_mode": {
    "name": "ipython",
    "version": 3
   },
   "file_extension": ".py",
   "mimetype": "text/x-python",
   "name": "python",
   "nbconvert_exporter": "python",
   "pygments_lexer": "ipython3",
   "version": "3.10.5"
  },
  "vscode": {
   "interpreter": {
    "hash": "7e1998ff7f8aa20ada591c520b972326324e5ea05489af9e422744c7c09f6dad"
   }
  }
 },
 "nbformat": 4,
 "nbformat_minor": 4
}
